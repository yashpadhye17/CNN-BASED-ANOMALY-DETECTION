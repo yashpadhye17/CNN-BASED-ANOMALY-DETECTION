{
 "cells": [
  {
   "cell_type": "code",
   "execution_count": 28,
   "id": "14f1aab1",
   "metadata": {},
   "outputs": [],
   "source": [
    "import tensorflow as tf\n",
    "from keras.preprocessing.image import ImageDataGenerator"
   ]
  },
  {
   "cell_type": "code",
   "execution_count": 54,
   "id": "58f30093",
   "metadata": {},
   "outputs": [
    {
     "name": "stdout",
     "output_type": "stream",
     "text": [
      "Found 64 images belonging to 2 classes.\n"
     ]
    }
   ],
   "source": [
    "'''train_datagen = ImageDataGenerator(rescale = 1./255,\n",
    "                                   shear_range = 0.2,\n",
    "                                   zoom_range = 0.2,\n",
    "                                   horizontal_flip = True)'''\n",
    "training_set = train_datagen.flow_from_directory('/Users/yashp/OneDrive/Desktop/Project/train/grayimgs/',\n",
    "                                                 target_size = (400,400),\n",
    "                                                 batch_size = 4,\n",
    "                                                 class_mode = 'binary')"
   ]
  },
  {
   "cell_type": "code",
   "execution_count": 55,
   "id": "750eb829",
   "metadata": {},
   "outputs": [
    {
     "name": "stdout",
     "output_type": "stream",
     "text": [
      "Found 35 images belonging to 2 classes.\n"
     ]
    }
   ],
   "source": [
    "'''test_datagen = ImageDataGenerator(rescale = 1./255)'''\n",
    "test_set = test_datagen.flow_from_directory('/Users/yashp/OneDrive/Desktop/Project/test/graytest/',\n",
    "                                            target_size = (400,400),\n",
    "                                            batch_size = 4,\n",
    "                                            class_mode = 'binary')"
   ]
  },
  {
   "cell_type": "code",
   "execution_count": 56,
   "id": "caf082d3",
   "metadata": {},
   "outputs": [],
   "source": [
    "cnn = tf.keras.models.Sequential()"
   ]
  },
  {
   "cell_type": "code",
   "execution_count": 58,
   "id": "6b751149",
   "metadata": {},
   "outputs": [],
   "source": [
    "cnn.add(tf.keras.layers.Conv2D(filters=32, kernel_size=3, activation='relu', input_shape=[400, 400, 2]))"
   ]
  },
  {
   "cell_type": "code",
   "execution_count": 59,
   "id": "30ba4de8",
   "metadata": {},
   "outputs": [],
   "source": [
    "cnn.add(tf.keras.layers.MaxPool2D(pool_size=4, strides=2))"
   ]
  },
  {
   "cell_type": "code",
   "execution_count": 60,
   "id": "4b667db6",
   "metadata": {},
   "outputs": [],
   "source": [
    "cnn.add(tf.keras.layers.Conv2D(filters=32, kernel_size=3, activation='relu'))\n",
    "cnn.add(tf.keras.layers.MaxPool2D(pool_size=4, strides=2))"
   ]
  },
  {
   "cell_type": "code",
   "execution_count": 61,
   "id": "a5f9e694",
   "metadata": {},
   "outputs": [],
   "source": [
    "cnn.add(tf.keras.layers.Flatten())"
   ]
  },
  {
   "cell_type": "code",
   "execution_count": 62,
   "id": "1fa998c7",
   "metadata": {},
   "outputs": [],
   "source": [
    "cnn.add(tf.keras.layers.Dense(units=128, activation='relu'))"
   ]
  },
  {
   "cell_type": "code",
   "execution_count": 63,
   "id": "05857481",
   "metadata": {},
   "outputs": [],
   "source": [
    "cnn.add(tf.keras.layers.Dense(units=1, activation='sigmoid'))"
   ]
  },
  {
   "cell_type": "code",
   "execution_count": 64,
   "id": "6966fc0a",
   "metadata": {},
   "outputs": [],
   "source": [
    "cnn.compile(optimizer = 'adam', loss = 'binary_crossentropy', metrics = ['accuracy'])"
   ]
  },
  {
   "cell_type": "code",
   "execution_count": 65,
   "id": "da2b869c",
   "metadata": {},
   "outputs": [
    {
     "name": "stdout",
     "output_type": "stream",
     "text": [
      "Epoch 1/50\n",
      "16/16 [==============================] - 5s 179ms/step - loss: 1.3179 - accuracy: 0.8281 - val_loss: 0.9401 - val_accuracy: 0.5714\n",
      "Epoch 2/50\n",
      "16/16 [==============================] - 2s 140ms/step - loss: 0.4730 - accuracy: 0.8281 - val_loss: 0.9127 - val_accuracy: 0.5714\n",
      "Epoch 3/50\n",
      "16/16 [==============================] - 2s 143ms/step - loss: 0.4825 - accuracy: 0.8281 - val_loss: 1.0359 - val_accuracy: 0.5714\n",
      "Epoch 4/50\n",
      "16/16 [==============================] - 2s 140ms/step - loss: 0.4403 - accuracy: 0.8281 - val_loss: 0.9352 - val_accuracy: 0.5714\n",
      "Epoch 5/50\n",
      "16/16 [==============================] - 2s 145ms/step - loss: 0.4490 - accuracy: 0.8281 - val_loss: 1.1785 - val_accuracy: 0.5714\n",
      "Epoch 6/50\n",
      "16/16 [==============================] - 2s 141ms/step - loss: 0.4717 - accuracy: 0.8281 - val_loss: 1.0507 - val_accuracy: 0.5714\n",
      "Epoch 7/50\n",
      "16/16 [==============================] - 2s 141ms/step - loss: 0.5454 - accuracy: 0.8281 - val_loss: 0.6874 - val_accuracy: 0.5714\n",
      "Epoch 8/50\n",
      "16/16 [==============================] - 2s 140ms/step - loss: 0.5879 - accuracy: 0.8438 - val_loss: 0.6570 - val_accuracy: 0.5714\n",
      "Epoch 9/50\n",
      "16/16 [==============================] - 2s 140ms/step - loss: 0.4719 - accuracy: 0.8438 - val_loss: 1.7962 - val_accuracy: 0.5714\n",
      "Epoch 10/50\n",
      "16/16 [==============================] - 2s 148ms/step - loss: 0.4963 - accuracy: 0.8594 - val_loss: 0.8710 - val_accuracy: 0.5714\n",
      "Epoch 11/50\n",
      "16/16 [==============================] - 2s 144ms/step - loss: 0.4232 - accuracy: 0.8281 - val_loss: 0.8029 - val_accuracy: 0.5714\n",
      "Epoch 12/50\n",
      "16/16 [==============================] - 2s 144ms/step - loss: 0.3858 - accuracy: 0.8438 - val_loss: 0.9213 - val_accuracy: 0.5714\n",
      "Epoch 13/50\n",
      "16/16 [==============================] - 2s 144ms/step - loss: 0.3348 - accuracy: 0.8281 - val_loss: 1.1277 - val_accuracy: 0.5714\n",
      "Epoch 14/50\n",
      "16/16 [==============================] - 2s 144ms/step - loss: 0.3255 - accuracy: 0.8594 - val_loss: 1.1607 - val_accuracy: 0.5714\n",
      "Epoch 15/50\n",
      "16/16 [==============================] - 2s 144ms/step - loss: 0.3329 - accuracy: 0.8281 - val_loss: 1.0720 - val_accuracy: 0.5714\n",
      "Epoch 16/50\n",
      "16/16 [==============================] - 2s 130ms/step - loss: 0.3151 - accuracy: 0.8750 - val_loss: 0.6384 - val_accuracy: 0.6000\n",
      "Epoch 17/50\n",
      "16/16 [==============================] - 2s 138ms/step - loss: 0.3561 - accuracy: 0.8594 - val_loss: 0.6572 - val_accuracy: 0.6000\n",
      "Epoch 18/50\n",
      "16/16 [==============================] - 2s 150ms/step - loss: 0.1867 - accuracy: 0.9688 - val_loss: 0.9495 - val_accuracy: 0.6000\n",
      "Epoch 19/50\n",
      "16/16 [==============================] - 2s 146ms/step - loss: 0.2015 - accuracy: 0.9375 - val_loss: 0.6400 - val_accuracy: 0.6286\n",
      "Epoch 20/50\n",
      "16/16 [==============================] - 2s 143ms/step - loss: 0.1352 - accuracy: 0.9688 - val_loss: 1.4726 - val_accuracy: 0.6000\n",
      "Epoch 21/50\n",
      "16/16 [==============================] - 2s 135ms/step - loss: 0.1568 - accuracy: 0.9062 - val_loss: 1.0745 - val_accuracy: 0.6000\n",
      "Epoch 22/50\n",
      "16/16 [==============================] - 2s 136ms/step - loss: 0.1377 - accuracy: 0.9531 - val_loss: 0.6465 - val_accuracy: 0.6571\n",
      "Epoch 23/50\n",
      "16/16 [==============================] - 2s 131ms/step - loss: 0.1265 - accuracy: 0.9688 - val_loss: 0.7427 - val_accuracy: 0.7143\n",
      "Epoch 24/50\n",
      "16/16 [==============================] - 2s 152ms/step - loss: 0.3654 - accuracy: 0.8750 - val_loss: 0.9040 - val_accuracy: 0.5714\n",
      "Epoch 25/50\n",
      "16/16 [==============================] - 3s 169ms/step - loss: 0.2204 - accuracy: 0.9375 - val_loss: 0.7228 - val_accuracy: 0.6857\n",
      "Epoch 26/50\n",
      "16/16 [==============================] - 2s 149ms/step - loss: 0.3418 - accuracy: 0.9062 - val_loss: 2.7271 - val_accuracy: 0.5714\n",
      "Epoch 27/50\n",
      "16/16 [==============================] - 3s 159ms/step - loss: 0.2398 - accuracy: 0.9219 - val_loss: 1.0822 - val_accuracy: 0.6000\n",
      "Epoch 28/50\n",
      "16/16 [==============================] - 3s 167ms/step - loss: 0.2243 - accuracy: 0.9219 - val_loss: 0.7194 - val_accuracy: 0.6571\n",
      "Epoch 29/50\n",
      "16/16 [==============================] - 3s 189ms/step - loss: 0.0659 - accuracy: 1.0000 - val_loss: 1.1684 - val_accuracy: 0.6286\n",
      "Epoch 30/50\n",
      "16/16 [==============================] - 3s 197ms/step - loss: 0.0317 - accuracy: 1.0000 - val_loss: 1.5578 - val_accuracy: 0.6286\n",
      "Epoch 31/50\n",
      "16/16 [==============================] - 3s 171ms/step - loss: 0.0137 - accuracy: 1.0000 - val_loss: 1.9017 - val_accuracy: 0.6000\n",
      "Epoch 32/50\n",
      "16/16 [==============================] - 3s 164ms/step - loss: 0.0256 - accuracy: 0.9844 - val_loss: 1.2474 - val_accuracy: 0.6286\n",
      "Epoch 33/50\n",
      "16/16 [==============================] - 3s 153ms/step - loss: 0.0825 - accuracy: 0.9531 - val_loss: 1.0739 - val_accuracy: 0.6286\n",
      "Epoch 34/50\n",
      "16/16 [==============================] - 2s 146ms/step - loss: 0.0883 - accuracy: 0.9531 - val_loss: 1.2964 - val_accuracy: 0.6857\n",
      "Epoch 35/50\n",
      "16/16 [==============================] - 3s 165ms/step - loss: 0.0558 - accuracy: 0.9844 - val_loss: 0.9844 - val_accuracy: 0.7143\n",
      "Epoch 36/50\n",
      "16/16 [==============================] - 3s 161ms/step - loss: 0.0291 - accuracy: 1.0000 - val_loss: 0.9777 - val_accuracy: 0.6857\n",
      "Epoch 37/50\n",
      "16/16 [==============================] - 3s 157ms/step - loss: 0.0378 - accuracy: 0.9844 - val_loss: 1.0241 - val_accuracy: 0.6857\n",
      "Epoch 38/50\n",
      "16/16 [==============================] - 3s 160ms/step - loss: 0.0162 - accuracy: 1.0000 - val_loss: 1.2401 - val_accuracy: 0.7143\n",
      "Epoch 39/50\n",
      "16/16 [==============================] - 3s 156ms/step - loss: 0.0026 - accuracy: 1.0000 - val_loss: 1.5482 - val_accuracy: 0.6857\n",
      "Epoch 40/50\n",
      "16/16 [==============================] - 2s 150ms/step - loss: 0.0298 - accuracy: 0.9844 - val_loss: 0.9270 - val_accuracy: 0.5714\n",
      "Epoch 41/50\n",
      "16/16 [==============================] - 2s 147ms/step - loss: 0.0621 - accuracy: 0.9844 - val_loss: 1.4509 - val_accuracy: 0.6571\n",
      "Epoch 42/50\n",
      "16/16 [==============================] - 3s 161ms/step - loss: 0.0120 - accuracy: 1.0000 - val_loss: 2.1808 - val_accuracy: 0.6857\n",
      "Epoch 43/50\n",
      "16/16 [==============================] - 3s 175ms/step - loss: 0.0031 - accuracy: 1.0000 - val_loss: 1.6855 - val_accuracy: 0.6571\n",
      "Epoch 44/50\n",
      "16/16 [==============================] - 2s 144ms/step - loss: 0.0024 - accuracy: 1.0000 - val_loss: 1.6273 - val_accuracy: 0.6571\n",
      "Epoch 45/50\n",
      "16/16 [==============================] - 3s 161ms/step - loss: 0.0575 - accuracy: 0.9688 - val_loss: 1.9400 - val_accuracy: 0.6571\n",
      "Epoch 46/50\n",
      "16/16 [==============================] - 3s 163ms/step - loss: 0.0458 - accuracy: 0.9688 - val_loss: 1.0593 - val_accuracy: 0.6571\n",
      "Epoch 47/50\n",
      "16/16 [==============================] - 3s 174ms/step - loss: 0.0366 - accuracy: 1.0000 - val_loss: 3.0619 - val_accuracy: 0.7143\n",
      "Epoch 48/50\n",
      "16/16 [==============================] - 3s 182ms/step - loss: 0.0441 - accuracy: 0.9688 - val_loss: 0.9372 - val_accuracy: 0.6571\n",
      "Epoch 49/50\n",
      "16/16 [==============================] - 3s 201ms/step - loss: 0.0417 - accuracy: 0.9844 - val_loss: 2.4423 - val_accuracy: 0.6571\n",
      "Epoch 50/50\n",
      "16/16 [==============================] - 3s 192ms/step - loss: 0.0360 - accuracy: 0.9844 - val_loss: 0.8349 - val_accuracy: 0.6571\n"
     ]
    },
    {
     "data": {
      "text/plain": [
       "<keras.callbacks.History at 0x1a868390970>"
      ]
     },
     "execution_count": 65,
     "metadata": {},
     "output_type": "execute_result"
    }
   ],
   "source": [
    "cnn.fit(x = training_set, validation_data = test_set, epochs = 50)"
   ]
  },
  {
   "cell_type": "code",
   "execution_count": 66,
   "id": "8cbf90ab",
   "metadata": {},
   "outputs": [
    {
     "name": "stdout",
     "output_type": "stream",
     "text": [
      "9/9 [==============================] - 1s 43ms/step - loss: 0.8349 - accuracy: 0.6571\n"
     ]
    }
   ],
   "source": [
    "loss, accuracy = cnn.evaluate(test_set)"
   ]
  },
  {
   "cell_type": "code",
   "execution_count": null,
   "id": "dcf4c041",
   "metadata": {},
   "outputs": [],
   "source": []
  }
 ],
 "metadata": {
  "kernelspec": {
   "display_name": "Python 3 (ipykernel)",
   "language": "python",
   "name": "python3"
  },
  "language_info": {
   "codemirror_mode": {
    "name": "ipython",
    "version": 3
   },
   "file_extension": ".py",
   "mimetype": "text/x-python",
   "name": "python",
   "nbconvert_exporter": "python",
   "pygments_lexer": "ipython3",
   "version": "3.9.16"
  }
 },
 "nbformat": 4,
 "nbformat_minor": 5
}

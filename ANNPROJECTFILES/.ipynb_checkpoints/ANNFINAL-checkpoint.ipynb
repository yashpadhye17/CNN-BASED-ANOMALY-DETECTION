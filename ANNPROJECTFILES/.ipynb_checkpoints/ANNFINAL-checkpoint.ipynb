{
 "cells": [
  {
   "cell_type": "code",
   "execution_count": 16,
   "id": "a2cdb192",
   "metadata": {},
   "outputs": [],
   "source": [
    "import tensorflow as tf\n",
    "from keras.preprocessing.image import ImageDataGenerator"
   ]
  },
  {
   "cell_type": "code",
   "execution_count": 17,
   "id": "c2a382b2",
   "metadata": {},
   "outputs": [
    {
     "data": {
      "text/plain": [
       "'2.6.0'"
      ]
     },
     "execution_count": 17,
     "metadata": {},
     "output_type": "execute_result"
    }
   ],
   "source": [
    "tf.__version__"
   ]
  },
  {
   "cell_type": "markdown",
   "id": "d62a3edb",
   "metadata": {},
   "source": [
    "### Preprocessing the Training set"
   ]
  },
  {
   "cell_type": "code",
   "execution_count": 2,
   "id": "7e62ec53",
   "metadata": {},
   "outputs": [
    {
     "ename": "NameError",
     "evalue": "name 'ImageDataGenerator' is not defined",
     "output_type": "error",
     "traceback": [
      "\u001b[1;31m---------------------------------------------------------------------------\u001b[0m",
      "\u001b[1;31mNameError\u001b[0m                                 Traceback (most recent call last)",
      "Cell \u001b[1;32mIn[2], line 1\u001b[0m\n\u001b[1;32m----> 1\u001b[0m train_datagen \u001b[38;5;241m=\u001b[39m \u001b[43mImageDataGenerator\u001b[49m(rescale \u001b[38;5;241m=\u001b[39m \u001b[38;5;241m1.\u001b[39m\u001b[38;5;241m/\u001b[39m\u001b[38;5;241m255\u001b[39m,\n\u001b[0;32m      2\u001b[0m                                    shear_range \u001b[38;5;241m=\u001b[39m \u001b[38;5;241m0.2\u001b[39m,\n\u001b[0;32m      3\u001b[0m                                    zoom_range \u001b[38;5;241m=\u001b[39m \u001b[38;5;241m0.2\u001b[39m,\n\u001b[0;32m      4\u001b[0m                                    horizontal_flip \u001b[38;5;241m=\u001b[39m \u001b[38;5;28;01mTrue\u001b[39;00m)\n\u001b[0;32m      5\u001b[0m training_set \u001b[38;5;241m=\u001b[39m train_datagen\u001b[38;5;241m.\u001b[39mflow_from_directory(\u001b[38;5;124m'\u001b[39m\u001b[38;5;124m/Users/yashp/OneDrive/Desktop/RESEARCH/Coffee_beans/train/\u001b[39m\u001b[38;5;124m'\u001b[39m,\n\u001b[0;32m      6\u001b[0m                                                  target_size \u001b[38;5;241m=\u001b[39m (\u001b[38;5;241m64\u001b[39m, \u001b[38;5;241m64\u001b[39m),\n\u001b[0;32m      7\u001b[0m                                                  batch_size \u001b[38;5;241m=\u001b[39m \u001b[38;5;241m4\u001b[39m,\n\u001b[0;32m      8\u001b[0m                                                  class_mode \u001b[38;5;241m=\u001b[39m \u001b[38;5;124m'\u001b[39m\u001b[38;5;124mbinary\u001b[39m\u001b[38;5;124m'\u001b[39m)\n",
      "\u001b[1;31mNameError\u001b[0m: name 'ImageDataGenerator' is not defined"
     ]
    }
   ],
   "source": [
    "train_datagen = ImageDataGenerator(rescale = 1./255,\n",
    "                                   shear_range = 0.2,\n",
    "                                   zoom_range = 0.2,\n",
    "                                   horizontal_flip = True)\n",
    "training_set = train_datagen.flow_from_directory('/Users/yashp/OneDrive/Desktop/RESEARCH/Coffee_beans/train/',\n",
    "                                                 target_size = (64, 64),\n",
    "                                                 batch_size = 4,\n",
    "                                                 class_mode = 'binary')"
   ]
  },
  {
   "cell_type": "markdown",
   "id": "4552835d",
   "metadata": {},
   "source": [
    "### Preprocessing the Test set"
   ]
  },
  {
   "cell_type": "code",
   "execution_count": 19,
   "id": "4d53aabe",
   "metadata": {},
   "outputs": [
    {
     "name": "stdout",
     "output_type": "stream",
     "text": [
      "Found 40 images belonging to 2 classes.\n"
     ]
    }
   ],
   "source": [
    "test_datagen = ImageDataGenerator(rescale = 1./255)\n",
    "test_set = test_datagen.flow_from_directory('/Users/yashp/OneDrive/Desktop/Dataset/Coffee_beans/test/',\n",
    "                                            target_size = (64, 64),\n",
    "                                            batch_size = 4,\n",
    "                                            class_mode = 'binary')"
   ]
  },
  {
   "cell_type": "markdown",
   "id": "ecd8fadc",
   "metadata": {},
   "source": [
    "### Initialising the CNN"
   ]
  },
  {
   "cell_type": "code",
   "execution_count": 20,
   "id": "d98f5127",
   "metadata": {},
   "outputs": [],
   "source": [
    "cnn = tf.keras.models.Sequential()"
   ]
  },
  {
   "cell_type": "code",
   "execution_count": 21,
   "id": "3181545b",
   "metadata": {},
   "outputs": [],
   "source": [
    "cnn.add(tf.keras.layers.Conv2D(filters=32, kernel_size=3, activation='sigmoid', input_shape=[64, 64, 3]))"
   ]
  },
  {
   "cell_type": "code",
   "execution_count": 22,
   "id": "d8a19d12",
   "metadata": {},
   "outputs": [],
   "source": [
    "cnn.add(tf.keras.layers.MaxPool2D(pool_size=4, strides=2))"
   ]
  },
  {
   "cell_type": "code",
   "execution_count": 23,
   "id": "48e9c46a",
   "metadata": {},
   "outputs": [],
   "source": [
    "cnn.add(tf.keras.layers.Conv2D(filters=32, kernel_size=3, activation='relu'))\n",
    "cnn.add(tf.keras.layers.MaxPool2D(pool_size=4, strides=2))"
   ]
  },
  {
   "cell_type": "code",
   "execution_count": 24,
   "id": "89be24b4",
   "metadata": {},
   "outputs": [],
   "source": [
    "cnn.add(tf.keras.layers.Flatten())"
   ]
  },
  {
   "cell_type": "code",
   "execution_count": 25,
   "id": "082a11fa",
   "metadata": {},
   "outputs": [],
   "source": [
    "cnn.add(tf.keras.layers.Dense(units=128, activation='relu'))"
   ]
  },
  {
   "cell_type": "code",
   "execution_count": 26,
   "id": "3d4084f9",
   "metadata": {},
   "outputs": [],
   "source": [
    "cnn.add(tf.keras.layers.Dense(units=1, activation='sigmoid'))"
   ]
  },
  {
   "cell_type": "code",
   "execution_count": 27,
   "id": "1c308a85",
   "metadata": {},
   "outputs": [],
   "source": [
    "cnn.compile(optimizer = 'adam', loss = 'binary_crossentropy', metrics = ['accuracy'])"
   ]
  },
  {
   "cell_type": "code",
   "execution_count": 28,
   "id": "cfd98fb3",
   "metadata": {},
   "outputs": [
    {
     "name": "stdout",
     "output_type": "stream",
     "text": [
      "Epoch 1/50\n",
      "15/15 [==============================] - 1s 45ms/step - loss: 0.5980 - accuracy: 0.8333 - val_loss: 1.4205 - val_accuracy: 0.5000\n",
      "Epoch 2/50\n",
      "15/15 [==============================] - 1s 35ms/step - loss: 0.4823 - accuracy: 0.8333 - val_loss: 1.0057 - val_accuracy: 0.5000\n",
      "Epoch 3/50\n",
      "15/15 [==============================] - 1s 34ms/step - loss: 0.4513 - accuracy: 0.8333 - val_loss: 0.9396 - val_accuracy: 0.5000\n",
      "Epoch 4/50\n",
      "15/15 [==============================] - 1s 35ms/step - loss: 0.4580 - accuracy: 0.8333 - val_loss: 1.0102 - val_accuracy: 0.5000\n",
      "Epoch 5/50\n",
      "15/15 [==============================] - 1s 33ms/step - loss: 0.4895 - accuracy: 0.8333 - val_loss: 1.0735 - val_accuracy: 0.5000\n",
      "Epoch 6/50\n",
      "15/15 [==============================] - 1s 34ms/step - loss: 0.4696 - accuracy: 0.8333 - val_loss: 0.8102 - val_accuracy: 0.5000\n",
      "Epoch 7/50\n",
      "15/15 [==============================] - 1s 34ms/step - loss: 0.4442 - accuracy: 0.8333 - val_loss: 1.0730 - val_accuracy: 0.5000\n",
      "Epoch 8/50\n",
      "15/15 [==============================] - 0s 33ms/step - loss: 0.4320 - accuracy: 0.8333 - val_loss: 0.9353 - val_accuracy: 0.5000\n",
      "Epoch 9/50\n",
      "15/15 [==============================] - 1s 34ms/step - loss: 0.4177 - accuracy: 0.8333 - val_loss: 0.8462 - val_accuracy: 0.5000\n",
      "Epoch 10/50\n",
      "15/15 [==============================] - 1s 35ms/step - loss: 0.4564 - accuracy: 0.8333 - val_loss: 0.9150 - val_accuracy: 0.5000\n",
      "Epoch 11/50\n",
      "15/15 [==============================] - ETA: 0s - loss: 0.4526 - accuracy: 0.83 - 0s 33ms/step - loss: 0.4526 - accuracy: 0.8333 - val_loss: 1.1120 - val_accuracy: 0.5000\n",
      "Epoch 12/50\n",
      "15/15 [==============================] - 1s 34ms/step - loss: 0.4413 - accuracy: 0.8333 - val_loss: 0.7092 - val_accuracy: 0.5000\n",
      "Epoch 13/50\n",
      "15/15 [==============================] - 1s 33ms/step - loss: 0.4062 - accuracy: 0.8333 - val_loss: 1.0311 - val_accuracy: 0.5000\n",
      "Epoch 14/50\n",
      "15/15 [==============================] - 1s 34ms/step - loss: 0.4320 - accuracy: 0.8333 - val_loss: 1.1142 - val_accuracy: 0.5000\n",
      "Epoch 15/50\n",
      "15/15 [==============================] - 1s 34ms/step - loss: 0.4047 - accuracy: 0.8333 - val_loss: 0.7035 - val_accuracy: 0.5000\n",
      "Epoch 16/50\n",
      "15/15 [==============================] - 1s 35ms/step - loss: 0.4079 - accuracy: 0.8333 - val_loss: 0.8169 - val_accuracy: 0.5000\n",
      "Epoch 17/50\n",
      "15/15 [==============================] - 1s 34ms/step - loss: 0.4135 - accuracy: 0.8333 - val_loss: 0.6999 - val_accuracy: 0.5000\n",
      "Epoch 18/50\n",
      "15/15 [==============================] - 1s 33ms/step - loss: 0.3449 - accuracy: 0.8333 - val_loss: 1.0062 - val_accuracy: 0.5000\n",
      "Epoch 19/50\n",
      "15/15 [==============================] - 1s 35ms/step - loss: 0.3903 - accuracy: 0.8333 - val_loss: 0.7020 - val_accuracy: 0.5000\n",
      "Epoch 20/50\n",
      "15/15 [==============================] - 1s 36ms/step - loss: 0.4375 - accuracy: 0.8500 - val_loss: 0.6750 - val_accuracy: 0.5000\n",
      "Epoch 21/50\n",
      "15/15 [==============================] - 1s 38ms/step - loss: 0.3475 - accuracy: 0.8333 - val_loss: 0.8657 - val_accuracy: 0.5000\n",
      "Epoch 22/50\n",
      "15/15 [==============================] - 1s 37ms/step - loss: 0.3460 - accuracy: 0.8500 - val_loss: 0.8188 - val_accuracy: 0.5000\n",
      "Epoch 23/50\n",
      "15/15 [==============================] - 1s 39ms/step - loss: 0.3189 - accuracy: 0.8833 - val_loss: 0.6955 - val_accuracy: 0.5250\n",
      "Epoch 24/50\n",
      "15/15 [==============================] - 1s 35ms/step - loss: 0.2976 - accuracy: 0.8500 - val_loss: 1.0642 - val_accuracy: 0.5000\n",
      "Epoch 25/50\n",
      "15/15 [==============================] - 0s 33ms/step - loss: 0.2884 - accuracy: 0.9000 - val_loss: 0.6980 - val_accuracy: 0.5500\n",
      "Epoch 26/50\n",
      "15/15 [==============================] - 1s 33ms/step - loss: 0.2585 - accuracy: 0.8833 - val_loss: 1.1947 - val_accuracy: 0.5000\n",
      "Epoch 27/50\n",
      "15/15 [==============================] - 1s 35ms/step - loss: 0.2706 - accuracy: 0.9167 - val_loss: 0.7820 - val_accuracy: 0.6000\n",
      "Epoch 28/50\n",
      "15/15 [==============================] - 1s 37ms/step - loss: 0.2777 - accuracy: 0.9000 - val_loss: 1.2547 - val_accuracy: 0.5000\n",
      "Epoch 29/50\n",
      "15/15 [==============================] - 1s 43ms/step - loss: 0.3677 - accuracy: 0.9000 - val_loss: 1.8527 - val_accuracy: 0.5000\n",
      "Epoch 30/50\n",
      "15/15 [==============================] - 1s 36ms/step - loss: 0.3891 - accuracy: 0.8333 - val_loss: 1.3134 - val_accuracy: 0.5000\n",
      "Epoch 31/50\n",
      "15/15 [==============================] - 1s 34ms/step - loss: 0.3273 - accuracy: 0.8833 - val_loss: 1.1405 - val_accuracy: 0.5000\n",
      "Epoch 32/50\n",
      "15/15 [==============================] - 1s 34ms/step - loss: 0.2966 - accuracy: 0.8833 - val_loss: 1.0404 - val_accuracy: 0.5000\n",
      "Epoch 33/50\n",
      "15/15 [==============================] - 1s 34ms/step - loss: 0.1693 - accuracy: 0.9500 - val_loss: 2.0082 - val_accuracy: 0.5000\n",
      "Epoch 34/50\n",
      "15/15 [==============================] - 1s 38ms/step - loss: 0.2914 - accuracy: 0.9000 - val_loss: 1.2405 - val_accuracy: 0.5000\n",
      "Epoch 35/50\n",
      "15/15 [==============================] - 1s 34ms/step - loss: 0.1729 - accuracy: 0.9000 - val_loss: 0.8114 - val_accuracy: 0.6000\n",
      "Epoch 36/50\n",
      "15/15 [==============================] - 1s 33ms/step - loss: 0.1944 - accuracy: 0.9167 - val_loss: 0.8435 - val_accuracy: 0.6250\n",
      "Epoch 37/50\n",
      "15/15 [==============================] - 1s 34ms/step - loss: 0.2307 - accuracy: 0.9500 - val_loss: 1.9104 - val_accuracy: 0.5000\n",
      "Epoch 38/50\n",
      "15/15 [==============================] - 1s 34ms/step - loss: 0.1578 - accuracy: 0.9167 - val_loss: 0.7592 - val_accuracy: 0.6250\n",
      "Epoch 39/50\n",
      "15/15 [==============================] - 1s 34ms/step - loss: 0.1354 - accuracy: 0.9667 - val_loss: 0.8655 - val_accuracy: 0.6000\n",
      "Epoch 40/50\n",
      "15/15 [==============================] - 1s 34ms/step - loss: 0.1948 - accuracy: 0.9167 - val_loss: 0.7140 - val_accuracy: 0.6500\n",
      "Epoch 41/50\n",
      "15/15 [==============================] - 0s 33ms/step - loss: 0.2364 - accuracy: 0.8833 - val_loss: 1.1619 - val_accuracy: 0.5500\n",
      "Epoch 42/50\n",
      "15/15 [==============================] - 1s 36ms/step - loss: 0.1606 - accuracy: 0.9500 - val_loss: 0.7214 - val_accuracy: 0.7000\n",
      "Epoch 43/50\n",
      "15/15 [==============================] - 1s 35ms/step - loss: 0.2042 - accuracy: 0.9000 - val_loss: 0.7883 - val_accuracy: 0.7000\n",
      "Epoch 44/50\n",
      "15/15 [==============================] - 1s 37ms/step - loss: 0.1356 - accuracy: 0.9333 - val_loss: 0.8190 - val_accuracy: 0.7000\n",
      "Epoch 45/50\n",
      "15/15 [==============================] - 1s 35ms/step - loss: 0.1904 - accuracy: 0.9167 - val_loss: 1.6118 - val_accuracy: 0.5000\n",
      "Epoch 46/50\n",
      "15/15 [==============================] - 1s 35ms/step - loss: 0.1455 - accuracy: 0.9500 - val_loss: 0.5620 - val_accuracy: 0.7000\n",
      "Epoch 47/50\n",
      "15/15 [==============================] - 1s 36ms/step - loss: 0.2162 - accuracy: 0.9333 - val_loss: 0.6323 - val_accuracy: 0.6500\n",
      "Epoch 48/50\n",
      "15/15 [==============================] - 1s 39ms/step - loss: 0.1459 - accuracy: 0.9500 - val_loss: 0.8090 - val_accuracy: 0.6750\n",
      "Epoch 49/50\n",
      "15/15 [==============================] - 1s 35ms/step - loss: 0.1207 - accuracy: 0.9667 - val_loss: 1.1157 - val_accuracy: 0.6000\n",
      "Epoch 50/50\n",
      "15/15 [==============================] - 1s 34ms/step - loss: 0.0998 - accuracy: 0.9667 - val_loss: 1.2139 - val_accuracy: 0.6000\n"
     ]
    },
    {
     "data": {
      "text/plain": [
       "<keras.callbacks.History at 0x194e89384f0>"
      ]
     },
     "execution_count": 28,
     "metadata": {},
     "output_type": "execute_result"
    }
   ],
   "source": [
    "cnn.fit(x = training_set, validation_data = test_set, epochs = 50)"
   ]
  },
  {
   "cell_type": "code",
   "execution_count": 14,
   "id": "189d194b",
   "metadata": {},
   "outputs": [],
   "source": [
    "import numpy as np\n",
    "from keras.preprocessing import image\n",
    "test_image = image.load_img('/Users/yashp/OneDrive/Desktop/Dataset/Coffee_beans/test/anomaly/NG_candy_002.jpg', target_size = (64, 64))\n",
    "test_image = image.img_to_array(test_image)\n",
    "test_image = np.expand_dims(test_image, axis = 0)\n",
    "result = cnn.predict(test_image)\n",
    "training_set.class_indices\n",
    "if result[0][0] > 0.5:\n",
    "  prediction = 'normal'\n",
    "else:\n",
    "  prediction = 'anomaly'"
   ]
  },
  {
   "cell_type": "code",
   "execution_count": 15,
   "id": "91872ae6",
   "metadata": {},
   "outputs": [
    {
     "name": "stdout",
     "output_type": "stream",
     "text": [
      "anomaly\n"
     ]
    }
   ],
   "source": [
    "print(prediction)"
   ]
  },
  {
   "cell_type": "code",
   "execution_count": 29,
   "id": "458b242f",
   "metadata": {},
   "outputs": [
    {
     "name": "stdout",
     "output_type": "stream",
     "text": [
      "10/10 [==============================] - 0s 21ms/step - loss: 1.2139 - accuracy: 0.6000\n"
     ]
    }
   ],
   "source": [
    "loss, accuracy = cnn.evaluate(test_set)"
   ]
  },
  {
   "cell_type": "code",
   "execution_count": null,
   "id": "fa0aed71",
   "metadata": {},
   "outputs": [],
   "source": []
  }
 ],
 "metadata": {
  "kernelspec": {
   "display_name": "Python 3 (ipykernel)",
   "language": "python",
   "name": "python3"
  },
  "language_info": {
   "codemirror_mode": {
    "name": "ipython",
    "version": 3
   },
   "file_extension": ".py",
   "mimetype": "text/x-python",
   "name": "python",
   "nbconvert_exporter": "python",
   "pygments_lexer": "ipython3",
   "version": "3.9.16"
  }
 },
 "nbformat": 4,
 "nbformat_minor": 5
}

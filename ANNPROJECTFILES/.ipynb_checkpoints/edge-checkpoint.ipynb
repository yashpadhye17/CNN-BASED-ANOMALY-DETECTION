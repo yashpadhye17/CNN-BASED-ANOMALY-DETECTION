{
 "cells": [
  {
   "cell_type": "code",
   "execution_count": 10,
   "id": "c09c694d",
   "metadata": {},
   "outputs": [],
   "source": [
    "import cv2\n",
    "import numpy as np\n",
    "import os\n",
    "\n",
    "# Set the path to the input and output folders\n",
    "input_folder = '/Users/yashp/OneDrive/Desktop/RESEARCH/Coffee_beans/test/chocolate/'\n",
    "output_folder = '/Users/yashp/OneDrive/Desktop/RESEARCH/edge/test/chocolate/'\n",
    "\n",
    "# Get a list of all the image files in the input folder\n",
    "image_files = os.listdir(input_folder)\n",
    "image_files = [file for file in image_files if file.endswith('.jpg') or file.endswith('.png')]\n",
    "\n",
    "# Loop through each image file\n",
    "for file in image_files:\n",
    "    # Load the image\n",
    "    img = cv2.imread(os.path.join(input_folder, file), cv2.IMREAD_GRAYSCALE)\n",
    "\n",
    "    # Apply median filter to preserve edges\n",
    "    filtered_img = cv2.medianBlur(img, 5)\n",
    "\n",
    "    # Compute the difference between the filtered and original image\n",
    "    diff_img = cv2.absdiff(img, filtered_img)\n",
    "\n",
    "    # Apply thresholding to highlight the edges\n",
    "    threshold = 50\n",
    "    edge_img = cv2.threshold(diff_img, threshold, 255, cv2.THRESH_BINARY)[1]\n",
    "\n",
    "    # Save the edge image to the output folder\n",
    "    cv2.imwrite(os.path.join(output_folder, file), edge_img)\n"
   ]
  },
  {
   "cell_type": "code",
   "execution_count": null,
   "id": "43bee23b",
   "metadata": {},
   "outputs": [],
   "source": []
  }
 ],
 "metadata": {
  "kernelspec": {
   "display_name": "Python 3 (ipykernel)",
   "language": "python",
   "name": "python3"
  },
  "language_info": {
   "codemirror_mode": {
    "name": "ipython",
    "version": 3
   },
   "file_extension": ".py",
   "mimetype": "text/x-python",
   "name": "python",
   "nbconvert_exporter": "python",
   "pygments_lexer": "ipython3",
   "version": "3.9.16"
  }
 },
 "nbformat": 4,
 "nbformat_minor": 5
}

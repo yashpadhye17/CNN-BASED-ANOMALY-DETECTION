{
 "cells": [
  {
   "cell_type": "code",
   "execution_count": 1,
   "id": "042af500",
   "metadata": {},
   "outputs": [
    {
     "ename": "error",
     "evalue": "OpenCV(4.7.0) D:\\a\\opencv-python\\opencv-python\\opencv\\modules\\imgproc\\src\\resize.cpp:4062: error: (-215:Assertion failed) !ssize.empty() in function 'cv::resize'\n",
     "output_type": "error",
     "traceback": [
      "\u001b[1;31m---------------------------------------------------------------------------\u001b[0m",
      "\u001b[1;31merror\u001b[0m                                     Traceback (most recent call last)",
      "Cell \u001b[1;32mIn[1], line 18\u001b[0m\n\u001b[0;32m     15\u001b[0m image \u001b[38;5;241m=\u001b[39m cv2\u001b[38;5;241m.\u001b[39mimread(image_path)\n\u001b[0;32m     17\u001b[0m \u001b[38;5;66;03m# resize the image using Max Pooling\u001b[39;00m\n\u001b[1;32m---> 18\u001b[0m max_pool \u001b[38;5;241m=\u001b[39m \u001b[43mcv2\u001b[49m\u001b[38;5;241;43m.\u001b[39;49m\u001b[43mresize\u001b[49m\u001b[43m(\u001b[49m\u001b[43mimage\u001b[49m\u001b[43m,\u001b[49m\u001b[43m \u001b[49m\u001b[43moutput_size\u001b[49m\u001b[43m,\u001b[49m\u001b[43m \u001b[49m\u001b[43minterpolation\u001b[49m\u001b[38;5;241;43m=\u001b[39;49m\u001b[43mcv2\u001b[49m\u001b[38;5;241;43m.\u001b[39;49m\u001b[43mINTER_LANCZOS4\u001b[49m\u001b[43m)\u001b[49m\n\u001b[0;32m     20\u001b[0m \u001b[38;5;66;03m# save the scaled image\u001b[39;00m\n\u001b[0;32m     21\u001b[0m output_path \u001b[38;5;241m=\u001b[39m os\u001b[38;5;241m.\u001b[39mpath\u001b[38;5;241m.\u001b[39mjoin(folder_path, \u001b[38;5;124m'\u001b[39m\u001b[38;5;124mscaled_\u001b[39m\u001b[38;5;124m'\u001b[39m \u001b[38;5;241m+\u001b[39m file_name)\n",
      "\u001b[1;31merror\u001b[0m: OpenCV(4.7.0) D:\\a\\opencv-python\\opencv-python\\opencv\\modules\\imgproc\\src\\resize.cpp:4062: error: (-215:Assertion failed) !ssize.empty() in function 'cv::resize'\n"
     ]
    }
   ],
   "source": [
    "import os\n",
    "import cv2\n",
    "import numpy as np\n",
    "\n",
    "# set the path to the folder containing the images\n",
    "folder_path = '/Users/yashp/OneDrive/Desktop/resizetrain/'\n",
    "\n",
    "# set the output size of the scaled images\n",
    "output_size = (200,200)\n",
    "\n",
    "# loop through all images in the folder\n",
    "for file_name in os.listdir(folder_path):\n",
    "    # read the image\n",
    "    image_path = os.path.join(folder_path, file_name)\n",
    "    image = cv2.imread(image_path)\n",
    "    \n",
    "    # resize the image using Max Pooling\n",
    "    max_pool = cv2.resize(image, output_size, interpolation=cv2.INTER_LANCZOS4)\n",
    "    \n",
    "    # save the scaled image\n",
    "    output_path = os.path.join(folder_path, 'scaled_' + file_name)\n",
    "    cv2.imwrite(output_path, max_pool)"
   ]
  },
  {
   "cell_type": "code",
   "execution_count": 2,
   "id": "6120f630",
   "metadata": {},
   "outputs": [],
   "source": [
    "import os\n",
    "import cv2\n",
    "import numpy as np\n",
    "\n",
    "# set the path to the folder containing the images\n",
    "folder_path = '/Users/yashp/OneDrive/Desktop/resizetrain/resize1/'\n",
    "\n",
    "# set the output size of the scaled images\n",
    "output_size = (100,100)\n",
    "\n",
    "# loop through all images in the folder\n",
    "for file_name in os.listdir(folder_path):\n",
    "    # read the image\n",
    "    image_path = os.path.join(folder_path, file_name)\n",
    "    image = cv2.imread(image_path)\n",
    "    \n",
    "    # resize the image using Max Pooling\n",
    "    max_pool = cv2.resize(image, output_size, interpolation=cv2.INTER_LANCZOS4)\n",
    "    \n",
    "    # save the scaled image\n",
    "    output_path = os.path.join(folder_path, 'scaled_' + file_name)\n",
    "    cv2.imwrite(output_path, max_pool)"
   ]
  },
  {
   "cell_type": "code",
   "execution_count": 3,
   "id": "39cfeef1",
   "metadata": {},
   "outputs": [],
   "source": [
    "import os\n",
    "import cv2\n",
    "import numpy as np\n",
    "\n",
    "# set the path to the folder containing the images\n",
    "folder_path = '/Users/yashp/OneDrive/Desktop/resizetrain/RESIZE2/'\n",
    "\n",
    "# set the output size of the scaled images\n",
    "output_size = (16,16)\n",
    "\n",
    "# loop through all images in the folder\n",
    "for file_name in os.listdir(folder_path):\n",
    "    # read the image\n",
    "    image_path = os.path.join(folder_path, file_name)\n",
    "    image = cv2.imread(image_path)\n",
    "    \n",
    "    # resize the image using Max Pooling\n",
    "    max_pool = cv2.resize(image, output_size, interpolation=cv2.INTER_LANCZOS4)\n",
    "    \n",
    "    # save the scaled image\n",
    "    output_path = os.path.join(folder_path, 'scaled_' + file_name)\n",
    "    cv2.imwrite(output_path, max_pool)"
   ]
  },
  {
   "cell_type": "code",
   "execution_count": 5,
   "id": "1fb9f1ff",
   "metadata": {},
   "outputs": [
    {
     "ename": "error",
     "evalue": "OpenCV(4.7.0) D:\\a\\opencv-python\\opencv-python\\opencv\\modules\\imgproc\\src\\resize.cpp:4062: error: (-215:Assertion failed) !ssize.empty() in function 'cv::resize'\n",
     "output_type": "error",
     "traceback": [
      "\u001b[1;31m---------------------------------------------------------------------------\u001b[0m",
      "\u001b[1;31merror\u001b[0m                                     Traceback (most recent call last)",
      "Cell \u001b[1;32mIn[5], line 18\u001b[0m\n\u001b[0;32m     15\u001b[0m image \u001b[38;5;241m=\u001b[39m cv2\u001b[38;5;241m.\u001b[39mimread(image_path)\n\u001b[0;32m     17\u001b[0m \u001b[38;5;66;03m# resize the image using Max Pooling\u001b[39;00m\n\u001b[1;32m---> 18\u001b[0m max_pool \u001b[38;5;241m=\u001b[39m \u001b[43mcv2\u001b[49m\u001b[38;5;241;43m.\u001b[39;49m\u001b[43mresize\u001b[49m\u001b[43m(\u001b[49m\u001b[43mimage\u001b[49m\u001b[43m,\u001b[49m\u001b[43m \u001b[49m\u001b[43moutput_size\u001b[49m\u001b[43m,\u001b[49m\u001b[43m \u001b[49m\u001b[43minterpolation\u001b[49m\u001b[38;5;241;43m=\u001b[39;49m\u001b[43mcv2\u001b[49m\u001b[38;5;241;43m.\u001b[39;49m\u001b[43mINTER_LANCZOS4\u001b[49m\u001b[43m)\u001b[49m\n\u001b[0;32m     20\u001b[0m \u001b[38;5;66;03m# save the scaled image\u001b[39;00m\n\u001b[0;32m     21\u001b[0m output_path \u001b[38;5;241m=\u001b[39m os\u001b[38;5;241m.\u001b[39mpath\u001b[38;5;241m.\u001b[39mjoin(folder_path, \u001b[38;5;124m'\u001b[39m\u001b[38;5;124mscaled_\u001b[39m\u001b[38;5;124m'\u001b[39m \u001b[38;5;241m+\u001b[39m file_name)\n",
      "\u001b[1;31merror\u001b[0m: OpenCV(4.7.0) D:\\a\\opencv-python\\opencv-python\\opencv\\modules\\imgproc\\src\\resize.cpp:4062: error: (-215:Assertion failed) !ssize.empty() in function 'cv::resize'\n"
     ]
    }
   ],
   "source": [
    "import os\n",
    "import cv2\n",
    "import numpy as np\n",
    "\n",
    "# set the path to the folder containing the images\n",
    "folder_path = '/Users/yashp/OneDrive/Desktop/resizetrain/'\n",
    "\n",
    "# set the output size of the scaled images\n",
    "output_size = (128,128)\n",
    "\n",
    "# loop through all images in the folder\n",
    "for file_name in os.listdir(folder_path):\n",
    "    # read the image\n",
    "    image_path = os.path.join(folder_path, file_name)\n",
    "    image = cv2.imread(image_path)\n",
    "    \n",
    "    # resize the image using Max Pooling\n",
    "    max_pool = cv2.resize(image, output_size, interpolation=cv2.INTER_LANCZOS4)\n",
    "    \n",
    "    # save the scaled image\n",
    "    output_path = os.path.join(folder_path, 'scaled_' + file_name)\n",
    "    cv2.imwrite(output_path, max_pool)"
   ]
  },
  {
   "cell_type": "code",
   "execution_count": 6,
   "id": "835b7e7e",
   "metadata": {},
   "outputs": [],
   "source": [
    "### TEST DaTA"
   ]
  },
  {
   "cell_type": "code",
   "execution_count": 7,
   "id": "efab9865",
   "metadata": {},
   "outputs": [
    {
     "ename": "error",
     "evalue": "OpenCV(4.7.0) D:\\a\\opencv-python\\opencv-python\\opencv\\modules\\imgproc\\src\\resize.cpp:4062: error: (-215:Assertion failed) !ssize.empty() in function 'cv::resize'\n",
     "output_type": "error",
     "traceback": [
      "\u001b[1;31m---------------------------------------------------------------------------\u001b[0m",
      "\u001b[1;31merror\u001b[0m                                     Traceback (most recent call last)",
      "Cell \u001b[1;32mIn[7], line 18\u001b[0m\n\u001b[0;32m     15\u001b[0m image \u001b[38;5;241m=\u001b[39m cv2\u001b[38;5;241m.\u001b[39mimread(image_path)\n\u001b[0;32m     17\u001b[0m \u001b[38;5;66;03m# resize the image using Max Pooling\u001b[39;00m\n\u001b[1;32m---> 18\u001b[0m max_pool \u001b[38;5;241m=\u001b[39m \u001b[43mcv2\u001b[49m\u001b[38;5;241;43m.\u001b[39;49m\u001b[43mresize\u001b[49m\u001b[43m(\u001b[49m\u001b[43mimage\u001b[49m\u001b[43m,\u001b[49m\u001b[43m \u001b[49m\u001b[43moutput_size\u001b[49m\u001b[43m,\u001b[49m\u001b[43m \u001b[49m\u001b[43minterpolation\u001b[49m\u001b[38;5;241;43m=\u001b[39;49m\u001b[43mcv2\u001b[49m\u001b[38;5;241;43m.\u001b[39;49m\u001b[43mINTER_LANCZOS4\u001b[49m\u001b[43m)\u001b[49m\n\u001b[0;32m     20\u001b[0m \u001b[38;5;66;03m# save the scaled image\u001b[39;00m\n\u001b[0;32m     21\u001b[0m output_path \u001b[38;5;241m=\u001b[39m os\u001b[38;5;241m.\u001b[39mpath\u001b[38;5;241m.\u001b[39mjoin(folder_path, \u001b[38;5;124m'\u001b[39m\u001b[38;5;124mscaled_\u001b[39m\u001b[38;5;124m'\u001b[39m \u001b[38;5;241m+\u001b[39m file_name)\n",
      "\u001b[1;31merror\u001b[0m: OpenCV(4.7.0) D:\\a\\opencv-python\\opencv-python\\opencv\\modules\\imgproc\\src\\resize.cpp:4062: error: (-215:Assertion failed) !ssize.empty() in function 'cv::resize'\n"
     ]
    }
   ],
   "source": [
    "import os\n",
    "import cv2\n",
    "import numpy as np\n",
    "\n",
    "# set the path to the folder containing the images\n",
    "folder_path = '/Users/yashp/OneDrive/Desktop/resizetest/'\n",
    "\n",
    "# set the output size of the scaled images\n",
    "output_size = (200,200)\n",
    "\n",
    "# loop through all images in the folder\n",
    "for file_name in os.listdir(folder_path):\n",
    "    # read the image\n",
    "    image_path = os.path.join(folder_path, file_name)\n",
    "    image = cv2.imread(image_path)\n",
    "    \n",
    "    # resize the image using Max Pooling\n",
    "    max_pool = cv2.resize(image, output_size, interpolation=cv2.INTER_LANCZOS4)\n",
    "    \n",
    "    # save the scaled image\n",
    "    output_path = os.path.join(folder_path, 'scaled_' + file_name)\n",
    "    cv2.imwrite(output_path, max_pool)"
   ]
  },
  {
   "cell_type": "code",
   "execution_count": 9,
   "id": "f7960d80",
   "metadata": {},
   "outputs": [],
   "source": [
    "import os\n",
    "import cv2\n",
    "import numpy as np\n",
    "\n",
    "# set the path to the folder containing the images\n",
    "folder_path = '/Users/yashp/OneDrive/Desktop/resizetest/resize1/'\n",
    "\n",
    "# set the output size of the scaled images\n",
    "output_size = (100,100)\n",
    "\n",
    "# loop through all images in the folder\n",
    "for file_name in os.listdir(folder_path):\n",
    "    # read the image\n",
    "    image_path = os.path.join(folder_path, file_name)\n",
    "    image = cv2.imread(image_path)\n",
    "    \n",
    "    # resize the image using Max Pooling\n",
    "    max_pool = cv2.resize(image, output_size, interpolation=cv2.INTER_LANCZOS4)\n",
    "    \n",
    "    # save the scaled image\n",
    "    output_path = os.path.join(folder_path, 'scaled_' + file_name)\n",
    "    cv2.imwrite(output_path, max_pool)"
   ]
  },
  {
   "cell_type": "code",
   "execution_count": 10,
   "id": "b2234b94",
   "metadata": {},
   "outputs": [],
   "source": [
    "import os\n",
    "import cv2\n",
    "import numpy as np\n",
    "\n",
    "# set the path to the folder containing the images\n",
    "folder_path = '/Users/yashp/OneDrive/Desktop/resizetest/resize2/'\n",
    "\n",
    "# set the output size of the scaled images\n",
    "output_size = (16,16)\n",
    "\n",
    "# loop through all images in the folder\n",
    "for file_name in os.listdir(folder_path):\n",
    "    # read the image\n",
    "    image_path = os.path.join(folder_path, file_name)\n",
    "    image = cv2.imread(image_path)\n",
    "    \n",
    "    # resize the image using Max Pooling\n",
    "    max_pool = cv2.resize(image, output_size, interpolation=cv2.INTER_LANCZOS4)\n",
    "    \n",
    "    # save the scaled image\n",
    "    output_path = os.path.join(folder_path, 'scaled_' + file_name)\n",
    "    cv2.imwrite(output_path, max_pool)"
   ]
  },
  {
   "cell_type": "code",
   "execution_count": null,
   "id": "1d8e6f4f",
   "metadata": {},
   "outputs": [],
   "source": []
  }
 ],
 "metadata": {
  "kernelspec": {
   "display_name": "Python 3 (ipykernel)",
   "language": "python",
   "name": "python3"
  },
  "language_info": {
   "codemirror_mode": {
    "name": "ipython",
    "version": 3
   },
   "file_extension": ".py",
   "mimetype": "text/x-python",
   "name": "python",
   "nbconvert_exporter": "python",
   "pygments_lexer": "ipython3",
   "version": "3.9.13"
  }
 },
 "nbformat": 4,
 "nbformat_minor": 5
}

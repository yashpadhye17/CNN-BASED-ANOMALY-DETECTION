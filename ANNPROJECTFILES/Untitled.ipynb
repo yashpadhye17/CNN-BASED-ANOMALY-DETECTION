{
 "cells": [
  {
   "cell_type": "code",
   "execution_count": 1,
   "id": "bb47f3fa",
   "metadata": {},
   "outputs": [
    {
     "name": "stdout",
     "output_type": "stream",
     "text": [
      "Train accuracy: 0.9655172413793104\n",
      "Train confusion matrix:\n",
      "[[150   0]\n",
      " [  7  46]]\n",
      "Test accuracy: 0.80625\n",
      "Test confusion matrix:\n",
      "[[61  4]\n",
      " [27 68]]\n"
     ]
    }
   ],
   "source": [
    "import cv2\n",
    "from skimage.feature import hog\n",
    "import numpy as np\n",
    "import os\n",
    "\n",
    "# Define the image size and number of HOG cells\n",
    "img_size = (200, 200)\n",
    "cells_per_block = (2, 2)\n",
    "\n",
    "# Define the HOG feature extractor\n",
    "hog_desc = hog\n",
    "\n",
    "# Define the dataset directories\n",
    "train_dir = '/Users/yashp/OneDrive/Desktop/RESEARCH/edge/train/'\n",
    "test_dir = '/Users/yashp/OneDrive/Desktop/RESEARCH/edge/test/'\n",
    "\n",
    "# Define the anomaly class labels\n",
    "anomaly_classes = ['good', 'anomaly']\n",
    "\n",
    "# Load the training data\n",
    "train_data = []\n",
    "train_labels = []\n",
    "for class_idx, class_name in enumerate(anomaly_classes):\n",
    "    class_dir = os.path.join(train_dir, class_name)\n",
    "    for filename in os.listdir(class_dir):\n",
    "        img_path = os.path.join(class_dir, filename)\n",
    "        img = cv2.imread(img_path, cv2.IMREAD_GRAYSCALE)\n",
    "        img = cv2.resize(img, img_size)\n",
    "        edges = cv2.Canny(img, 100, 200)\n",
    "        hog_feats = hog_desc(edges, orientations=8, pixels_per_cell=(32, 32),\n",
    "                             cells_per_block=cells_per_block, block_norm='L2-Hys')\n",
    "        train_data.append(hog_feats)\n",
    "        train_labels.append(class_idx)\n",
    "\n",
    "# Load the testing data\n",
    "test_data = []\n",
    "test_labels = []\n",
    "for class_idx, class_name in enumerate(anomaly_classes):\n",
    "    class_dir = os.path.join(test_dir, class_name)\n",
    "    for filename in os.listdir(class_dir):\n",
    "        img_path = os.path.join(class_dir, filename)\n",
    "        img = cv2.imread(img_path, cv2.IMREAD_GRAYSCALE)\n",
    "        img = cv2.resize(img, img_size)\n",
    "        edges = cv2.Canny(img, 100, 200)\n",
    "        hog_feats = hog_desc(edges, orientations=8, pixels_per_cell=(32, 32),\n",
    "                             cells_per_block=cells_per_block, block_norm='L2-Hys')\n",
    "        test_data.append(hog_feats)\n",
    "        test_labels.append(class_idx)\n",
    "\n",
    "# Convert the data and labels to numpy arrays\n",
    "train_data = np.array(train_data)\n",
    "train_labels = np.array(train_labels)\n",
    "test_data = np.array(test_data)\n",
    "test_labels = np.array(test_labels)\n",
    "\n",
    "# Train a Support Vector Machine (SVM) classifier\n",
    "from sklearn.svm import SVC\n",
    "\n",
    "svm = SVC(kernel='linear', C=1.0)\n",
    "svm.fit(train_data, train_labels)\n",
    "\n",
    "# Evaluate the performance of the model\n",
    "from sklearn.metrics import accuracy_score, confusion_matrix\n",
    "\n",
    "train_preds = svm.predict(train_data)\n",
    "train_acc = accuracy_score(train_labels, train_preds)\n",
    "train_cm = confusion_matrix(train_labels, train_preds)\n",
    "\n",
    "test_preds = svm.predict(test_data)\n",
    "test_acc = accuracy_score(test_labels, test_preds)\n",
    "test_cm = confusion_matrix(test_labels, test_preds)\n",
    "\n",
    "print(f\"Train accuracy: {train_acc}\")\n",
    "print(f\"Train confusion matrix:\\n{train_cm}\")\n",
    "print(f\"Test accuracy: {test_acc}\")\n",
    "print(f\"Test confusion matrix:\\n{test_cm}\")\n"
   ]
  },
  {
   "cell_type": "code",
   "execution_count": 4,
   "id": "96c6e794",
   "metadata": {},
   "outputs": [
    {
     "data": {
      "text/plain": [
       "[0]"
      ]
     },
     "execution_count": 4,
     "metadata": {},
     "output_type": "execute_result"
    }
   ],
   "source": [
    "import GPUtil\n",
    "GPUtil.getAvailable()"
   ]
  },
  {
   "cell_type": "code",
   "execution_count": 3,
   "id": "036e9981",
   "metadata": {},
   "outputs": [
    {
     "name": "stdout",
     "output_type": "stream",
     "text": [
      "Collecting GPUtil\n",
      "  Downloading GPUtil-1.4.0.tar.gz (5.5 kB)\n",
      "  Preparing metadata (setup.py): started\n",
      "  Preparing metadata (setup.py): finished with status 'done'\n",
      "Building wheels for collected packages: GPUtil\n",
      "  Building wheel for GPUtil (setup.py): started\n",
      "  Building wheel for GPUtil (setup.py): finished with status 'done'\n",
      "  Created wheel for GPUtil: filename=GPUtil-1.4.0-py3-none-any.whl size=7400 sha256=f0c89b8b5aceaafa8d4205631e3dd126026bff54aa78e789ccb5b2f5c3ccb276\n",
      "  Stored in directory: c:\\users\\yashp\\appdata\\local\\pip\\cache\\wheels\\79\\a7\\0c\\d53673ba405bcb572989c614f77c87833b03c3ca07d1f3e48e\n",
      "Successfully built GPUtil\n",
      "Installing collected packages: GPUtil\n",
      "Successfully installed GPUtil-1.4.0\n",
      "Note: you may need to restart the kernel to use updated packages.\n"
     ]
    }
   ],
   "source": [
    "pip install GPUtil"
   ]
  },
  {
   "cell_type": "code",
   "execution_count": 5,
   "id": "25fb9ecd",
   "metadata": {},
   "outputs": [],
   "source": [
    "import torch\n",
    "use_cuda = torch.cuda.is_available()"
   ]
  },
  {
   "cell_type": "code",
   "execution_count": 6,
   "id": "20bf425e",
   "metadata": {},
   "outputs": [],
   "source": [
    "if use_cuda:\n",
    "    print('__CUDNN VERSION:', torch.backends.cudnn.version())\n",
    "    print('__Number CUDA Devices:', torch.cuda.device_count())\n",
    "    print('__CUDA Device Name:',torch.cuda.get_device_name(0))\n",
    "    print('__CUDA Device Total Memory [GB]:',torch.cuda.get_device_properties(0).total_memory/1e9)"
   ]
  },
  {
   "cell_type": "code",
   "execution_count": 7,
   "id": "19ca64d4",
   "metadata": {},
   "outputs": [
    {
     "name": "stdout",
     "output_type": "stream",
     "text": [
      "Device:  cpu\n"
     ]
    }
   ],
   "source": [
    "device = torch.device(\"cuda\" if use_cuda else \"cpu\")\n",
    "print(\"Device: \",device)"
   ]
  },
  {
   "cell_type": "code",
   "execution_count": null,
   "id": "e2fdd5ce",
   "metadata": {},
   "outputs": [],
   "source": []
  }
 ],
 "metadata": {
  "kernelspec": {
   "display_name": "Python 3 (ipykernel)",
   "language": "python",
   "name": "python3"
  },
  "language_info": {
   "codemirror_mode": {
    "name": "ipython",
    "version": 3
   },
   "file_extension": ".py",
   "mimetype": "text/x-python",
   "name": "python",
   "nbconvert_exporter": "python",
   "pygments_lexer": "ipython3",
   "version": "3.9.16"
  }
 },
 "nbformat": 4,
 "nbformat_minor": 5
}
